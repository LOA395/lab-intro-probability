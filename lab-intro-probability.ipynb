{
 "cells": [
  {
   "cell_type": "markdown",
   "metadata": {},
   "source": [
    "# Lab | Intro to Probability"
   ]
  },
  {
   "cell_type": "markdown",
   "metadata": {},
   "source": [
    "**Objective**\n",
    "\n",
    "Welcome to this Intro to Probability lab, where we explore decision-making scenarios through the lens of probability and strategic analysis. In the business world, making informed decisions is crucial, especially when faced with uncertainties. This lab focuses on scenarios where probabilistic outcomes play a significant role in shaping strategies and outcomes. Students will engage in exercises that require assessing and choosing optimal paths based on data-driven insights. The goal is to enhance your skills by applying probability concepts to solve real-world problems."
   ]
  },
  {
   "cell_type": "code",
   "execution_count": 1,
   "metadata": {},
   "outputs": [],
   "source": [
    "from scipy.stats import binom\n",
    "from scipy.stats import geom\n",
    "from scipy.stats import poisson\n",
    "from scipy.stats import expon\n",
    "from scipy.stats import norm\n",
    "\n",
    "\n"
   ]
  },
  {
   "cell_type": "markdown",
   "metadata": {},
   "source": [
    "**Challenge 1**"
   ]
  },
  {
   "cell_type": "markdown",
   "metadata": {},
   "source": [
    "#### Ironhack Airlines \n",
    "\n",
    "Often Airlines sell more tickets than they have seats available, this is called overbooking. Consider the following:\n",
    "- A plane has 450 seats. \n",
    "- Based on historical data we conclude that each individual passenger has a 3% chance of missing it's flight. \n",
    "\n",
    "If the Ironhack Airlines routinely sells 460 tickets, what is the chance that they have a seats for all passenger?"
   ]
  },
  {
   "cell_type": "code",
   "execution_count": 10,
   "metadata": {},
   "outputs": [
    {
     "name": "stdout",
     "output_type": "stream",
     "text": [
      "La probabilidad de que haya suficientes asientos es: 0.8147\n"
     ]
    }
   ],
   "source": [
    "#code here\n",
    "\n",
    "n = 460  # Boletos vendidos\n",
    "p = 0.03  # Probabilidad de que un pasajero no se presente\n",
    "k = 10  # Necesitamos que al menos 10 pasajeros no se presenten\n",
    "\n",
    "# Probabilidad de que 10 o menos pasajeros no se presenten\n",
    "probabilidad_menos_10 = binom.cdf(k, n, p)\n",
    "\n",
    "# Probabilidad de que 11 o más pasajeros no se presenten\n",
    "probabilidad_mas_10 = 1 - probabilidad_menos_10\n",
    "print(f\"La probabilidad de que haya suficientes asientos es: {probabilidad_mas_10:.4f}\")"
   ]
  },
  {
   "cell_type": "markdown",
   "metadata": {},
   "source": [
    "**Challenge 2**"
   ]
  },
  {
   "cell_type": "markdown",
   "metadata": {},
   "source": [
    "#### Ironhack Call Center "
   ]
  },
  {
   "cell_type": "markdown",
   "metadata": {},
   "source": [
    "Suppose a customer service representative at a call center is handling customer complaints. Consider the following:\n",
    "- The probability of successfully resolving a customer complaint on the first attempt is 0.3. \n",
    "\n",
    "\n",
    "What is the probability that the representative needs to make at least three attempts before successfully resolving a customer complaint?"
   ]
  },
  {
   "cell_type": "code",
   "execution_count": 3,
   "metadata": {},
   "outputs": [
    {
     "name": "stdout",
     "output_type": "stream",
     "text": [
      "La probabilidad de necesitar al menos 3 intentos es: 0.4900\n"
     ]
    }
   ],
   "source": [
    "#code here\n",
    "\n",
    "p = 0.3  # Probabilidad de éxito en un intento\n",
    "k = 2  # Necesitamos al menos 3 intentos, así que consideramos los primeros 2\n",
    "\n",
    "# Probabilidad de resolver en 1 o 2 intentos\n",
    "prob_1_o_2_intentos = geom.cdf(k, p)\n",
    "\n",
    "# Probabilidad de necesitar al menos 3 intentos\n",
    "prob_3_o_mas_intentos = 1 - prob_1_o_2_intentos\n",
    "print(f\"La probabilidad de necesitar al menos 3 intentos es: {prob_3_o_mas_intentos:.4f}\")\n"
   ]
  },
  {
   "cell_type": "markdown",
   "metadata": {},
   "source": [
    "**Challenge 3**"
   ]
  },
  {
   "cell_type": "markdown",
   "metadata": {},
   "source": [
    "#### Ironhack Website"
   ]
  },
  {
   "cell_type": "markdown",
   "metadata": {},
   "source": [
    "Consider a scenario related to Ironhack website traffic. Where:\n",
    "- our website takes on average 500 visits per hour.\n",
    "- the website's server is designed to handle up to 550 vists per hour.\n",
    "\n",
    "\n",
    "What is the probability of the website server being overwhelmed?"
   ]
  },
  {
   "cell_type": "code",
   "execution_count": 4,
   "metadata": {},
   "outputs": [
    {
     "name": "stdout",
     "output_type": "stream",
     "text": [
      "La probabilidad de sobrecarga en una hora es: 0.0129\n"
     ]
    }
   ],
   "source": [
    "#code here\n",
    "\n",
    "lambda_visitas = 500  # Media de visitas por hora\n",
    "limite_servidor = 550  # Capacidad del servidor\n",
    "\n",
    "# Probabilidad de que el servidor sea sobrecargado (más de 550 visitas)\n",
    "probabilidad_sobrecarga_hora = 1 - poisson.cdf(limite_servidor, lambda_visitas)\n",
    "print(f\"La probabilidad de sobrecarga en una hora es: {probabilidad_sobrecarga_hora:.4f}\")"
   ]
  },
  {
   "cell_type": "markdown",
   "metadata": {},
   "source": [
    "What is the probability of being overwhelmed at some point during a day? (consider 24hours)"
   ]
  },
  {
   "cell_type": "code",
   "execution_count": 5,
   "metadata": {},
   "outputs": [
    {
     "name": "stdout",
     "output_type": "stream",
     "text": [
      "La probabilidad de sobrecarga en algún momento durante el día es: 0.2677\n"
     ]
    }
   ],
   "source": [
    "#code here\n",
    "\n",
    "# Probabilidad de no sobrecarga en una hora\n",
    "probabilidad_no_sobrecarga_hora = 1 - probabilidad_sobrecarga_hora\n",
    "\n",
    "# Probabilidad de no sobrecarga en todo el día (24 horas)\n",
    "probabilidad_no_sobrecarga_dia = probabilidad_no_sobrecarga_hora ** 24\n",
    "\n",
    "# Probabilidad de sobrecarga en algún momento durante el día\n",
    "probabilidad_sobrecarga_dia = 1 - probabilidad_no_sobrecarga_dia\n",
    "print(f\"La probabilidad de sobrecarga en algún momento durante el día es: {probabilidad_sobrecarga_dia:.4f}\")\n"
   ]
  },
  {
   "cell_type": "markdown",
   "metadata": {},
   "source": [
    "**Challenge 4**"
   ]
  },
  {
   "cell_type": "markdown",
   "metadata": {},
   "source": [
    "#### Ironhack Helpdesk"
   ]
  },
  {
   "cell_type": "markdown",
   "metadata": {},
   "source": [
    "Consider a scenario related to the time between arrivals of customers at a service desk.\n",
    "\n",
    "On average, a customers arrives every 10minutes.\n",
    "\n",
    "What is the probability that the next customer will arrive within the next 5 minutes?"
   ]
  },
  {
   "cell_type": "code",
   "execution_count": 6,
   "metadata": {},
   "outputs": [
    {
     "name": "stdout",
     "output_type": "stream",
     "text": [
      "La probabilidad de que el próximo cliente llegue en 5 minutos es: 0.3935\n"
     ]
    }
   ],
   "source": [
    "rate = 1/10  # Tasa promedio de llegadas (1 llegada cada 10 minutos)\n",
    "tiempo = 5  # Queremos la probabilidad de que llegue en los próximos 5 minutos\n",
    "\n",
    "# Probabilidad de que el próximo cliente llegue en 5 minutos\n",
    "probabilidad_5_min = expon.cdf(tiempo, scale=1/rate)\n",
    "print(f\"La probabilidad de que el próximo cliente llegue en 5 minutos es: {probabilidad_5_min:.4f}\")"
   ]
  },
  {
   "cell_type": "markdown",
   "metadata": {},
   "source": [
    "If there is no customer for 15minutes, employees can that a 5minutes break.\n",
    "\n",
    "What is the probability an employee taking a break?"
   ]
  },
  {
   "cell_type": "code",
   "execution_count": 7,
   "metadata": {},
   "outputs": [
    {
     "name": "stdout",
     "output_type": "stream",
     "text": [
      "La probabilidad de que los empleados puedan tomar un descanso es: 0.2231\n"
     ]
    }
   ],
   "source": [
    "tiempo_descanso = 15  # Tiempo sin clientes\n",
    "\n",
    "# Probabilidad de que no haya clientes en 15 minutos\n",
    "probabilidad_sin_cliente_15_min = 1 - expon.cdf(tiempo_descanso, scale=1/rate)\n",
    "print(f\"La probabilidad de que los empleados puedan tomar un descanso es: {probabilidad_sin_cliente_15_min:.4f}\")\n"
   ]
  },
  {
   "cell_type": "markdown",
   "metadata": {},
   "source": [
    "**Challenge 5**"
   ]
  },
  {
   "cell_type": "markdown",
   "metadata": {},
   "source": [
    "The weights of a certain species of birds follow a normal distribution with a mean weight of 150 grams and a standard deviation of 10 grams. \n",
    "\n",
    "- If we randomly select a bird, what is the probability that its weight is between 140 and 160 grams?"
   ]
  },
  {
   "cell_type": "code",
   "execution_count": 8,
   "metadata": {},
   "outputs": [
    {
     "name": "stdout",
     "output_type": "stream",
     "text": [
      "La probabilidad de que el peso esté entre 140 y 160 gramos es: 0.6827\n"
     ]
    }
   ],
   "source": [
    "#code here\n",
    "\n",
    "media = 150  # Media del peso\n",
    "desviacion_estandar = 10  # Desviación estándar\n",
    "\n",
    "# Probabilidad de que el peso esté entre 140 y 160 gramos\n",
    "probabilidad_140_160 = norm.cdf(160, media, desviacion_estandar) - norm.cdf(140, media, desviacion_estandar)\n",
    "print(f\"La probabilidad de que el peso esté entre 140 y 160 gramos es: {probabilidad_140_160:.4f}\")"
   ]
  },
  {
   "cell_type": "markdown",
   "metadata": {},
   "source": [
    "**Challenge 6**"
   ]
  },
  {
   "cell_type": "markdown",
   "metadata": {},
   "source": [
    "If the lifetime (in hours) of a certain electronic component follows an exponential distribution with a mean lifetime of 50 hours, what is the probability that the component fails within the first 30 hours?"
   ]
  },
  {
   "cell_type": "code",
   "execution_count": 9,
   "metadata": {},
   "outputs": [
    {
     "name": "stdout",
     "output_type": "stream",
     "text": [
      "La probabilidad de que el componente falle en las primeras 30 horas es: 0.4512\n"
     ]
    }
   ],
   "source": [
    "#code here\n",
    "\n",
    "media_vida = 50  # Media de vida útil\n",
    "tiempo_fallo = 30  # Queremos la probabilidad de que falle antes de 30 horas\n",
    "\n",
    "# Probabilidad de que falle dentro de las primeras 30 horas\n",
    "probabilidad_fallo_30_horas = expon.cdf(tiempo_fallo, scale=media_vida)\n",
    "print(f\"La probabilidad de que el componente falle en las primeras 30 horas es: {probabilidad_fallo_30_horas:.4f}\")\n"
   ]
  }
 ],
 "metadata": {
  "kernelspec": {
   "display_name": "Python 3",
   "language": "python",
   "name": "python3"
  },
  "language_info": {
   "codemirror_mode": {
    "name": "ipython",
    "version": 3
   },
   "file_extension": ".py",
   "mimetype": "text/x-python",
   "name": "python",
   "nbconvert_exporter": "python",
   "pygments_lexer": "ipython3",
   "version": "3.9.19"
  }
 },
 "nbformat": 4,
 "nbformat_minor": 2
}
